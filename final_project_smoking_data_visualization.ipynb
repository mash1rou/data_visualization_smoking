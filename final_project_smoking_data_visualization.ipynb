{
 "cells": [
  {
   "cell_type": "markdown",
   "id": "3b731311",
   "metadata": {},
   "source": [
    "\n",
    "# Smoking Trends Analysis\n",
    "\n",
    "## Introduction\n",
    "This project explores global smoking patterns using a multi-year dataset that includes smoking percentages by gender, daily cigarette consumption, and smoker population per country.\n",
    "\n",
    "## Objectives\n",
    "- Identify countries with the highest smoking rates\n",
    "- Compare male and female smoking behaviors\n",
    "- Explore trends over time and relationships between smoking rate and consumption\n",
    "- Visualize the data effectively using interactive charts\n",
    "\n",
    "## Dataset\n",
    "Source: [CORGIS Smoking Dataset](https://corgis-edu.github.io/corgis/csv/smoking/)\n"
   ]
  },
  {
   "cell_type": "markdown",
   "id": "94d28578",
   "metadata": {},
   "source": [
    "# Smoking Data Visualization Project\n",
    "This notebook analyzes smoking trends using a global dataset."
   ]
  },
  {
   "cell_type": "code",
   "execution_count": null,
   "id": "ac7a3376",
   "metadata": {},
   "outputs": [],
   "source": [
    "import pandas as pd\n",
    "import plotly.express as px\n",
    "import plotly.graph_objects as go\n",
    "import seaborn as sns\n",
    "import matplotlib.pyplot as plt\n",
    "\n",
    "df = pd.read_csv(\"smoking.csv\")\n",
    "\n",
    "df = df.rename(columns={\n",
    "    'Data.Daily cigarettes': 'Daily Cigarettes',\n",
    "    'Data.Percentage.Male': 'Male Smoking %',\n",
    "    'Data.Percentage.Female': 'Female Smoking %',\n",
    "    'Data.Percentage.Total': 'Total Smoking %',\n",
    "    'Data.Smokers.Total': 'Total Smokers',\n",
    "    'Data.Smokers.Male': 'Male Smokers',\n",
    "    'Data.Smokers.Female': 'Female Smokers'\n",
    "})"
   ]
  },
  {
   "cell_type": "code",
   "execution_count": null,
   "id": "256ab297",
   "metadata": {},
   "outputs": [],
   "source": [
    "fig = px.line(df, x='Year', y='Total Smoking %', color='Country',\n",
    "              title='Total Smoking Percentage Over Time by Country')\n",
    "fig.show()"
   ]
  },
  {
   "cell_type": "code",
   "execution_count": null,
   "id": "2be90361",
   "metadata": {},
   "outputs": [],
   "source": [
    "latest_year = df['Year'].max()\n",
    "df_latest = df[df['Year'] == latest_year]\n",
    "\n",
    "fig = go.Figure()\n",
    "fig.add_trace(go.Bar(x=df_latest['Country'], y=df_latest['Male Smoking %'],\n",
    "                     name='Male', marker_color='blue'))\n",
    "fig.add_trace(go.Bar(x=df_latest['Country'], y=df_latest['Female Smoking %'],\n",
    "                     name='Female', marker_color='pink'))\n",
    "\n",
    "fig.update_layout(barmode='group', title='Smoking Percentage by Gender (Latest Year)',\n",
    "                  xaxis_title='Country', yaxis_title='Smoking %', xaxis_tickangle=45)\n",
    "fig.show()"
   ]
  },
  {
   "cell_type": "code",
   "execution_count": null,
   "id": "445ce38c",
   "metadata": {},
   "outputs": [],
   "source": [
    "pivot = df.pivot_table(index='Country', columns='Year', values='Total Smoking %')\n",
    "\n",
    "plt.figure(figsize=(16, 10))\n",
    "sns.heatmap(pivot, annot=False, cmap='YlGnBu')\n",
    "plt.title('Heatmap of Smoking Percentage by Country and Year')\n",
    "plt.xlabel('Year')\n",
    "plt.ylabel('Country')\n",
    "plt.tight_layout()\n",
    "plt.show()"
   ]
  },
  {
   "cell_type": "code",
   "execution_count": null,
   "id": "c3fd6df5",
   "metadata": {},
   "outputs": [],
   "source": [
    "top_smoking = df[df['Year'] == latest_year].sort_values('Total Smoking %', ascending=False).head(10)\n",
    "\n",
    "fig = px.bar(top_smoking, x='Country', y='Total Smoking %', \n",
    "             title='Top 10 Countries with Highest Smoking Rates (Latest Year)',\n",
    "             color='Total Smoking %', color_continuous_scale='Reds')\n",
    "fig.show()"
   ]
  },
  {
   "cell_type": "code",
   "execution_count": null,
   "id": "a8ed214c",
   "metadata": {},
   "outputs": [],
   "source": [
    "selected_countries = ['Indonesia', 'United States', 'China', 'India']\n",
    "df_filtered = df[df['Country'].isin(selected_countries)]\n",
    "\n",
    "fig = px.line(df_filtered, x='Year', y='Total Smoking %', color='Country',\n",
    "              title='Smoking Trends in Selected Countries')\n",
    "fig.show()"
   ]
  },
  {
   "cell_type": "code",
   "execution_count": null,
   "id": "ebe1f3bc",
   "metadata": {},
   "outputs": [],
   "source": [
    "fig = px.scatter(df, x='Daily Cigarettes', y='Total Smoking %', \n",
    "                 trendline='ols', color='Country',\n",
    "                 title='Correlation Between Daily Cigarettes and Smoking Rate')\n",
    "fig.show()"
   ]
  },
  {
   "cell_type": "code",
   "execution_count": null,
   "id": "8fa167ac",
   "metadata": {},
   "outputs": [],
   "source": [
    "fig = px.box(df_latest, y=['Male Smoking %', 'Female Smoking %'], \n",
    "             title='Gender-based Smoking Percentage Distribution (Latest Year)')\n",
    "fig.show()"
   ]
  },
  {
   "cell_type": "code",
   "execution_count": null,
   "id": "b2a6a40d",
   "metadata": {},
   "outputs": [],
   "source": [
    "fig = px.choropleth(df, locations='Country', locationmode='country names',\n",
    "                    color='Total Smoking %', hover_name='Country',\n",
    "                    animation_frame='Year', title='Global Smoking Trends Over Time',\n",
    "                    color_continuous_scale='OrRd')\n",
    "fig.show()"
   ]
  },
  {
   "cell_type": "code",
   "execution_count": null,
   "id": "f1c0b455",
   "metadata": {},
   "outputs": [],
   "source": [
    "\n",
    "import ipywidgets as widgets\n",
    "from IPython.display import display\n",
    "\n",
    "country_selector = widgets.Dropdown(options=df['Country'].unique(), description='Country:')\n",
    "display(country_selector)\n",
    "\n",
    "def plot_country(country):\n",
    "    country_df = df[df['Country'] == country]\n",
    "    fig = px.line(country_df, x='Year', y='Total Smoking %', title=f'Smoking Trend in {country}')\n",
    "    fig.show()\n",
    "\n",
    "widgets.interact(plot_country, country=country_selector)\n"
   ]
  },
  {
   "cell_type": "markdown",
   "id": "b1d351fd",
   "metadata": {},
   "source": [
    "\n",
    "## ❗ Why PySpark, Kafka, or Hadoop Were Not Used\n",
    "\n",
    "Although tools like **PySpark**, **Kafka**, and **Hadoop** were introduced in class for handling big data workflows, they were not necessary for this project because:\n",
    "\n",
    "- 📊 The dataset is **small** (CSV format, a few thousand rows) and can be efficiently processed using **Pandas**.\n",
    "- ⚡ No **real-time streaming** is involved, so **Kafka** is not applicable.\n",
    "- 🌐 The data does not require **distributed computing** or storage, so **Hadoop** is not relevant.\n",
    "- 🧪 The primary goal is **exploratory data visualization**, which is better served by tools like **Jupyter**, **Plotly**, and **Seaborn** for their interactivity and plotting capabilities.\n",
    "\n",
    "If the dataset were larger or involved real-time updates, those big data tools would be more appropriate.\n"
   ]
  },
  {
   "cell_type": "markdown",
   "id": "9d5ab863",
   "metadata": {},
   "source": [
    "\n",
    "## Conclusion\n",
    "\n",
    "- Countries like Indonesia and China have consistently high smoking rates.\n",
    "- Male smoking is significantly higher than female in most countries.\n",
    "- There is a positive correlation between daily cigarette consumption and overall smoking prevalence.\n",
    "- Smoking rates have generally declined in some regions, indicating possible public health progress.\n",
    "\n",
    "Further research could incorporate policy data or regional economic indicators.\n"
   ]
  }
 ],
 "metadata": {},
 "nbformat": 4,
 "nbformat_minor": 5
}
